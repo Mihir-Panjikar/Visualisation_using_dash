{
 "cells": [
  {
   "cell_type": "code",
   "execution_count": 2,
   "id": "fcc37f5a",
   "metadata": {
    "collapsed": true
   },
   "outputs": [
    {
     "name": "stdout",
     "output_type": "stream",
     "text": [
      "Collecting dash\n",
      "  Using cached dash-2.14.1-py3-none-any.whl (10.4 MB)\n",
      "Collecting dash-renderer\n",
      "  Using cached dash_renderer-1.9.1-py3-none-any.whl\n",
      "Collecting dash_html_components\n",
      "  Using cached dash_html_components-2.0.0-py3-none-any.whl (4.1 kB)\n",
      "Collecting dash_core_components\n",
      "  Using cached dash_core_components-2.0.0-py3-none-any.whl (3.8 kB)\n",
      "Collecting ansi2html\n",
      "  Using cached ansi2html-1.8.0-py3-none-any.whl (16 kB)\n",
      "Requirement already satisfied: plotly>=5.0.0 in /home/harish/anaconda3/lib/python3.9/site-packages (from dash->-r requirements.txt (line 1)) (5.9.0)\n",
      "Requirement already satisfied: Werkzeug<3.1 in /home/harish/anaconda3/lib/python3.9/site-packages (from dash->-r requirements.txt (line 1)) (2.0.3)\n",
      "Requirement already satisfied: typing-extensions>=4.1.1 in /home/harish/anaconda3/lib/python3.9/site-packages (from dash->-r requirements.txt (line 1)) (4.7.1)\n",
      "Requirement already satisfied: nest-asyncio in /home/harish/anaconda3/lib/python3.9/site-packages (from dash->-r requirements.txt (line 1)) (1.5.5)\n",
      "Collecting dash-table==5.0.0\n",
      "  Using cached dash_table-5.0.0-py3-none-any.whl (3.9 kB)\n",
      "Requirement already satisfied: requests in /home/harish/anaconda3/lib/python3.9/site-packages (from dash->-r requirements.txt (line 1)) (2.28.1)\n",
      "Collecting retrying\n",
      "  Using cached retrying-1.3.4-py3-none-any.whl (11 kB)\n",
      "Requirement already satisfied: Flask<3.1,>=1.0.4 in /home/harish/anaconda3/lib/python3.9/site-packages (from dash->-r requirements.txt (line 1)) (1.1.2)\n",
      "Requirement already satisfied: setuptools in /home/harish/anaconda3/lib/python3.9/site-packages (from dash->-r requirements.txt (line 1)) (63.4.1)\n",
      "Requirement already satisfied: importlib-metadata in /home/harish/anaconda3/lib/python3.9/site-packages (from dash->-r requirements.txt (line 1)) (4.11.3)\n",
      "Requirement already satisfied: Jinja2>=2.10.1 in /home/harish/anaconda3/lib/python3.9/site-packages (from Flask<3.1,>=1.0.4->dash->-r requirements.txt (line 1)) (2.11.3)\n",
      "Requirement already satisfied: itsdangerous>=0.24 in /home/harish/anaconda3/lib/python3.9/site-packages (from Flask<3.1,>=1.0.4->dash->-r requirements.txt (line 1)) (2.0.1)\n",
      "Requirement already satisfied: click>=5.1 in /home/harish/anaconda3/lib/python3.9/site-packages (from Flask<3.1,>=1.0.4->dash->-r requirements.txt (line 1)) (8.0.4)\n",
      "Requirement already satisfied: tenacity>=6.2.0 in /home/harish/anaconda3/lib/python3.9/site-packages (from plotly>=5.0.0->dash->-r requirements.txt (line 1)) (8.0.1)\n",
      "Requirement already satisfied: zipp>=0.5 in /home/harish/anaconda3/lib/python3.9/site-packages (from importlib-metadata->dash->-r requirements.txt (line 1)) (3.8.0)\n",
      "Requirement already satisfied: certifi>=2017.4.17 in /home/harish/anaconda3/lib/python3.9/site-packages (from requests->dash->-r requirements.txt (line 1)) (2022.9.14)\n",
      "Requirement already satisfied: urllib3<1.27,>=1.21.1 in /home/harish/anaconda3/lib/python3.9/site-packages (from requests->dash->-r requirements.txt (line 1)) (1.26.11)\n",
      "Requirement already satisfied: idna<4,>=2.5 in /home/harish/anaconda3/lib/python3.9/site-packages (from requests->dash->-r requirements.txt (line 1)) (3.3)\n",
      "Requirement already satisfied: charset-normalizer<3,>=2 in /home/harish/anaconda3/lib/python3.9/site-packages (from requests->dash->-r requirements.txt (line 1)) (2.0.4)\n",
      "Requirement already satisfied: six>=1.7.0 in /home/harish/anaconda3/lib/python3.9/site-packages (from retrying->dash->-r requirements.txt (line 1)) (1.16.0)\n",
      "Requirement already satisfied: MarkupSafe>=0.23 in /home/harish/anaconda3/lib/python3.9/site-packages (from Jinja2>=2.10.1->Flask<3.1,>=1.0.4->dash->-r requirements.txt (line 1)) (2.0.1)\n",
      "Installing collected packages: dash-table, dash-renderer, dash_html_components, dash_core_components, retrying, ansi2html, dash\n",
      "Successfully installed ansi2html-1.8.0 dash-2.14.1 dash-renderer-1.9.1 dash-table-5.0.0 dash_core_components-2.0.0 dash_html_components-2.0.0 retrying-1.3.4\n",
      "Note: you may need to restart the kernel to use updated packages.\n"
     ]
    }
   ],
   "source": [
    "pip install -r requirements.txt"
   ]
  },
  {
   "cell_type": "code",
   "execution_count": 1,
   "id": "523c59b5",
   "metadata": {},
   "outputs": [],
   "source": [
    "from dash import dash,html,dcc"
   ]
  },
  {
   "cell_type": "code",
   "execution_count": 2,
   "id": "bc53d029",
   "metadata": {},
   "outputs": [],
   "source": [
    "colors = {\n",
    "    'text': 'black',\n",
    "    'plot_color': '#D3D3D3',\n",
    "    'paper_color': '#D3D3D3'\n",
    "}"
   ]
  },
  {
   "cell_type": "code",
   "execution_count": 13,
   "id": "97ba9bd8",
   "metadata": {},
   "outputs": [],
   "source": [
    "app = dash.Dash()"
   ]
  },
  {
   "cell_type": "code",
   "execution_count": 4,
   "id": "93edd2e0",
   "metadata": {
    "scrolled": true
   },
   "outputs": [
    {
     "data": {
      "text/html": [
       "\n",
       "        <iframe\n",
       "            width=\"100%\"\n",
       "            height=\"650\"\n",
       "            src=\"http://127.0.0.1:8050/\"\n",
       "            frameborder=\"0\"\n",
       "            allowfullscreen\n",
       "            \n",
       "        ></iframe>\n",
       "        "
      ],
      "text/plain": [
       "<IPython.lib.display.IFrame at 0x7f0949263250>"
      ]
     },
     "metadata": {},
     "output_type": "display_data"
    }
   ],
   "source": [
    "app.layout = html.Div([\n",
    "    html.H1(children = 'Hello World!!!',\n",
    "            style = {\n",
    "                'textAlign': 'center',\n",
    "                'color': colors['text']\n",
    "            }\n",
    "           ),\n",
    "    html.Div(children = 'Dash - A data product development framework from plotly',\n",
    "             style = {\n",
    "                'textAlign': 'center',\n",
    "                'color': colors['text']\n",
    "             }\n",
    "            ),\n",
    "    \n",
    "    dcc.Graph(\n",
    "        id = 'sample-chart',\n",
    "        figure = {\n",
    "            'data': [\n",
    "                {'x': [4,6,8], 'y': [12,16,18], 'type': 'bar', 'name': 'First chart'},\n",
    "                {'x': [4,6,8], 'y': [23,24,26], 'type': 'bar', 'name': 'Second chart'}\n",
    "            ],\n",
    "            'layout': {\n",
    "                'plot_bgcolor': colors['plot_color'],\n",
    "                'paper_bgcolor': colors['paper_color'],\n",
    "                'font': {\n",
    "                    'color': colors['text']\n",
    "                },\n",
    "                'title': \"simple bar chart\"\n",
    "            }\n",
    "        }\n",
    "    )\n",
    "])\n",
    "\n",
    "if __name__ == '__main__':\n",
    "    app.run_server()"
   ]
  },
  {
   "cell_type": "code",
   "execution_count": 27,
   "id": "eb966e89",
   "metadata": {},
   "outputs": [],
   "source": [
    "import plotly.graph_objs as go\n",
    "import numpy as np\n",
    "np.random.seed(50)\n",
    "x_rand = np.random.randint(1,61,60)\n",
    "y_rand = np.random.randint(1,61,60)"
   ]
  },
  {
   "cell_type": "code",
   "execution_count": 28,
   "id": "6f72f0d3",
   "metadata": {
    "scrolled": false
   },
   "outputs": [
    {
     "data": {
      "text/html": [
       "\n",
       "        <iframe\n",
       "            width=\"100%\"\n",
       "            height=\"650\"\n",
       "            src=\"http://127.0.0.1:8050/\"\n",
       "            frameborder=\"0\"\n",
       "            allowfullscreen\n",
       "            \n",
       "        ></iframe>\n",
       "        "
      ],
      "text/plain": [
       "<IPython.lib.display.IFrame at 0x7f09308c7490>"
      ]
     },
     "metadata": {},
     "output_type": "display_data"
    }
   ],
   "source": [
    "app.layout = html.Div([\n",
    "\n",
    "    dcc.Graph(\n",
    "        id='scatter_chart',\n",
    "        figure = {\n",
    "            'data': [\n",
    "                go.Scatter(\n",
    "                    x = x_rand,\n",
    "                    y = y_rand,\n",
    "                    mode = 'markers'\n",
    "                )\n",
    "            ],\n",
    "            'layout': go.Layout(\n",
    "                title = 'Scatterplot of Random 60 points',\n",
    "                xaxis = {'title': 'Random X Values'},\n",
    "                yaxis = {'title': 'Random Y Values'},\n",
    "            )\n",
    "        }\n",
    "    )\n",
    "])\n",
    "\n",
    "if __name__ == '__main__':\n",
    "    app.run_server()"
   ]
  },
  {
   "cell_type": "code",
   "execution_count": null,
   "id": "af2dcfcb",
   "metadata": {},
   "outputs": [],
   "source": []
  }
 ],
 "metadata": {
  "kernelspec": {
   "display_name": "dash_env",
   "language": "python",
   "name": "dash_env"
  },
  "language_info": {
   "codemirror_mode": {
    "name": "ipython",
    "version": 3
   },
   "file_extension": ".py",
   "mimetype": "text/x-python",
   "name": "python",
   "nbconvert_exporter": "python",
   "pygments_lexer": "ipython3",
   "version": "3.9.13"
  }
 },
 "nbformat": 4,
 "nbformat_minor": 5
}
