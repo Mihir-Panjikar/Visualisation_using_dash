{
 "cells": [
  {
   "cell_type": "code",
   "execution_count": 1,
   "id": "9bf7d1e1",
   "metadata": {},
   "outputs": [],
   "source": [
    "import dash\n",
    "import alpha_vantage.timeseries as av\n",
    "import pandas as pd\n",
    "import os\n",
    "from dash import html, dcc, Input, Output\n",
    "from dotenv import load_dotenv\n",
    "\n",
    "load_dotenv()\n",
    "api_key = os.environ.get('API_KEY')\n",
    "\n",
    "external_stylesheets = ['styles.css']\n",
    "\n",
    "app = dash.Dash(__name__, external_stylesheets=external_stylesheets)"
   ]
  },
  {
   "cell_type": "code",
   "execution_count": 2,
   "id": "836eb110",
   "metadata": {},
   "outputs": [],
   "source": [
    "app.layout = html.Div([\n",
    "    html.H1(\"Stock Data Dashboard\"),\n",
    "    \n",
    "    html.Label(\"Enter Stock Symbol:\"),\n",
    "    dcc.Input(id='stock-input', type='text', value='AAPL'),\n",
    "    \n",
    "    html.Button(id='submit-button', n_clicks=0, children='Submit'),\n",
    "    \n",
    "    dcc.Graph(id='stock-chart', figure={}),\n",
    "])"
   ]
  },
  {
   "cell_type": "code",
   "execution_count": 3,
   "id": "5a51cd23",
   "metadata": {},
   "outputs": [],
   "source": [
    "@app.callback(\n",
    "    Output('stock-chart', 'figure'),\n",
    "    Input('submit-button', 'n_clicks'),\n",
    "    [dash.dependencies.State('stock-input', 'value')]\n",
    ")\n",
    "\n",
    "def update_chart(n_clicks, stock_symbol):\n",
    "    # Making API request to Alpha Vantage\n",
    "    ts = av.TimeSeries(key=api_key, output_format=\"pandas\")\n",
    "    data, meta_data = ts.get_weekly(symbol=stock_symbol)\n",
    "\n",
    "    # Processing the data\n",
    "    df = data.rename(\n",
    "        columns={\n",
    "            \"1. open\": \"Open\",\n",
    "            \"2. high\": \"High\",\n",
    "            \"3. low\": \"Low\",\n",
    "            \"4. close\": \"Close\",\n",
    "            \"5. volume\": \"Volume\",\n",
    "        }\n",
    "    )\n",
    "\n",
    "    # Creating a candlestick chart\n",
    "    figure = {\n",
    "        \"data\": [\n",
    "            {\n",
    "                \"x\": df.index,\n",
    "                \"open\": df[\"Open\"],\n",
    "                \"high\": df[\"High\"],\n",
    "                \"low\": df[\"Low\"],\n",
    "                \"close\": df[\"Close\"],\n",
    "                \"type\": \"candlestick\",\n",
    "                \"name\": stock_symbol,\n",
    "            },\n",
    "        ],\n",
    "        \"layout\": {\n",
    "            \"title\": f\"{stock_symbol} Stock Price\",\n",
    "            \"xaxis\": {\"rangeslider\": {\"visible\": False}},\n",
    "            \"yaxis\": {\"title\": \"Stock Price\"},\n",
    "        },\n",
    "    }\n",
    "\n",
    "    return figure"
   ]
  },
  {
   "cell_type": "code",
   "execution_count": 4,
   "id": "d605c998",
   "metadata": {
    "scrolled": false
   },
   "outputs": [
    {
     "data": {
      "text/html": [
       "\n",
       "        <iframe\n",
       "            width=\"100%\"\n",
       "            height=\"650\"\n",
       "            src=\"http://127.0.0.1:8050/\"\n",
       "            frameborder=\"0\"\n",
       "            allowfullscreen\n",
       "            \n",
       "        ></iframe>\n",
       "        "
      ],
      "text/plain": [
       "<IPython.lib.display.IFrame at 0x7f53361cf550>"
      ]
     },
     "metadata": {},
     "output_type": "display_data"
    }
   ],
   "source": [
    "if __name__ == '__main__':\n",
    "    app.run_server(debug=True)"
   ]
  },
  {
   "cell_type": "code",
   "execution_count": null,
   "id": "03ba19ca",
   "metadata": {},
   "outputs": [],
   "source": []
  }
 ],
 "metadata": {
  "kernelspec": {
   "display_name": "dash_env",
   "language": "python",
   "name": "dash_env"
  },
  "language_info": {
   "codemirror_mode": {
    "name": "ipython",
    "version": 3
   },
   "file_extension": ".py",
   "mimetype": "text/x-python",
   "name": "python",
   "nbconvert_exporter": "python",
   "pygments_lexer": "ipython3",
   "version": "3.9.13"
  }
 },
 "nbformat": 4,
 "nbformat_minor": 5
}
